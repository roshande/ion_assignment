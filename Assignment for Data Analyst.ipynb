{
 "cells": [
  {
   "cell_type": "markdown",
   "metadata": {},
   "source": [
    "# Assignment to ION Energy's Question for Data Analyst Position"
   ]
  },
  {
   "cell_type": "code",
   "execution_count": null,
   "metadata": {},
   "outputs": [],
   "source": [
    "#import required library\n",
    "import pandas as pd\n",
    "import seaborn as sns\n",
    "import matplotlib.pyplot as plot\n",
    "%matplotlib inline\n",
    "sns.set()"
   ]
  },
  {
   "cell_type": "markdown",
   "metadata": {},
   "source": [
    "Following is an utility function for visualisation"
   ]
  },
  {
   "cell_type": "code",
   "execution_count": null,
   "metadata": {},
   "outputs": [],
   "source": [
    "df = pd.read_csv(\"Assignment file for Data Analyst - assignment file.csv\")\n",
    "df.head()"
   ]
  },
  {
   "cell_type": "markdown",
   "metadata": {},
   "source": [
    "# PAIR1: Grid status & SOC correlation"
   ]
  },
  {
   "cell_type": "code",
   "execution_count": null,
   "metadata": {},
   "outputs": [],
   "source": [
    "pair1 = [\"Grid status\", \"SOC\"]\n",
    "pair1_data = df[pair1]\n",
    "pair1_data.head()"
   ]
  },
  {
   "cell_type": "code",
   "execution_count": null,
   "metadata": {},
   "outputs": [],
   "source": [
    "pair1_corr = pair1_data.corr()\n",
    "print(pair1_corr)"
   ]
  },
  {
   "cell_type": "code",
   "execution_count": null,
   "metadata": {},
   "outputs": [],
   "source": [
    "pair1_visualisation = sns.heatmap(pair1_corr,\n",
    "                                  xticklabels = pair1_corr.columns,\n",
    "                                  yticklabels = pair1_corr.columns,\n",
    "                                  center=0.0,\n",
    "                                  annot=True, square = False)"
   ]
  },
  {
   "cell_type": "markdown",
   "metadata": {},
   "source": [
    "### saving pair1 visualisation to png"
   ]
  },
  {
   "cell_type": "code",
   "execution_count": null,
   "metadata": {},
   "outputs": [],
   "source": [
    "pair1_fig = pair1_visualisation.get_figure()\n",
    "pair1_fig.savefig(\"pair1_corr_fig.png\")"
   ]
  },
  {
   "cell_type": "markdown",
   "metadata": {},
   "source": [
    "# PAIR2: Equivalent Cycles & SOH correlation"
   ]
  },
  {
   "cell_type": "code",
   "execution_count": null,
   "metadata": {},
   "outputs": [],
   "source": [
    "pair2 = [\"Equivalent cycle\", \"SOH\"]\n",
    "pair2_data = df[pair2]\n",
    "pair2_data.head()"
   ]
  },
  {
   "cell_type": "code",
   "execution_count": null,
   "metadata": {},
   "outputs": [],
   "source": [
    "pair2_corr = pair2_data.corr()\n",
    "pair2_corr.head()"
   ]
  },
  {
   "cell_type": "code",
   "execution_count": null,
   "metadata": {},
   "outputs": [],
   "source": [
    "pair2_visualisation = sns.heatmap(pair2_corr,\n",
    "                                 xticklabels=pair2_corr.columns,\n",
    "                                 yticklabels=pair2_corr.columns,\n",
    "                                 center=0.0,\n",
    "                                 annot=True, square=True)"
   ]
  },
  {
   "cell_type": "markdown",
   "metadata": {},
   "source": [
    "### saving pair2 visualisation to png"
   ]
  },
  {
   "cell_type": "code",
   "execution_count": null,
   "metadata": {},
   "outputs": [],
   "source": [
    "pair2_fig = pair2_visualisation.get_figure()\n",
    "pair2_fig.savefig(\"pair2_corr_fig.png\")"
   ]
  },
  {
   "cell_type": "markdown",
   "metadata": {},
   "source": [
    "# PAIR3: SOC & Temperature correlation"
   ]
  },
  {
   "cell_type": "code",
   "execution_count": null,
   "metadata": {},
   "outputs": [],
   "source": [
    "pair3 = [\"SOC\", \"Temperature\"]\n",
    "pair3_data = df[pair3]\n",
    "pair3_data.head()"
   ]
  },
  {
   "cell_type": "code",
   "execution_count": null,
   "metadata": {},
   "outputs": [],
   "source": [
    "pair3_corr = pair3_data.corr()\n",
    "pair3_corr.head()"
   ]
  },
  {
   "cell_type": "code",
   "execution_count": null,
   "metadata": {},
   "outputs": [],
   "source": [
    "pair3_visualisation = sns.heatmap(pair3_corr,\n",
    "                                 xticklabels=pair3_corr.columns,\n",
    "                                 yticklabels=pair3_corr.columns,\n",
    "                                 center=0.0, fmt=\"f\",\n",
    "                                 annot=True, square=True)"
   ]
  },
  {
   "cell_type": "markdown",
   "metadata": {},
   "source": [
    "### saving pair3 visualisation to png"
   ]
  },
  {
   "cell_type": "code",
   "execution_count": null,
   "metadata": {},
   "outputs": [],
   "source": [
    "pair3_fig = pair3_visualisation.get_figure()\n",
    "pair3_fig.savefig(\"pair3_corr_fig.png\")"
   ]
  }
 ],
 "metadata": {
  "kernelspec": {
   "display_name": "Python 3",
   "language": "python",
   "name": "python3"
  },
  "language_info": {
   "codemirror_mode": {
    "name": "ipython",
    "version": 3
   },
   "file_extension": ".py",
   "mimetype": "text/x-python",
   "name": "python",
   "nbconvert_exporter": "python",
   "pygments_lexer": "ipython3",
   "version": "3.7.3"
  }
 },
 "nbformat": 4,
 "nbformat_minor": 2
}
