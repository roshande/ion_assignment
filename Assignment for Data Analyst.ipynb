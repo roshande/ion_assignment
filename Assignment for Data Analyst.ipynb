{
 "cells": [
  {
   "cell_type": "markdown",
   "metadata": {},
   "source": [
    "# Assignment to ION Energy's Question for Data Analyst Position"
   ]
  },
  {
   "cell_type": "code",
   "execution_count": null,
   "metadata": {},
   "outputs": [],
   "source": [
    "#import required library\n",
    "import numpy as np\n",
    "import pandas as pd\n",
    "import seaborn as sns\n",
    "import matplotlib.pyplot as plt\n",
    "from datetime import datetime as dt\n",
    "from matplotlib.dates import DateFormatter\n",
    "import matplotlib.dates as mdates\n",
    "%matplotlib inline\n",
    "plt.style.use('seaborn-whitegrid')\n",
    "sns.set()"
   ]
  },
  {
   "cell_type": "code",
   "execution_count": null,
   "metadata": {},
   "outputs": [],
   "source": [
    "df = pd.read_csv(\"Assignment file for Data Analyst - assignment file.csv\")\n",
    "df.head()"
   ]
  },
  {
   "cell_type": "markdown",
   "metadata": {},
   "source": [
    "First we will add new column converting timestamp to datetime"
   ]
  },
  {
   "cell_type": "code",
   "execution_count": null,
   "metadata": {},
   "outputs": [],
   "source": [
    "df[\"Datetime\"] = pd.to_datetime(df[\"Timestamp\"], unit='ms')\n",
    "df.head()"
   ]
  },
  {
   "cell_type": "markdown",
   "metadata": {},
   "source": [
    "Lets first get an understanding of data."
   ]
  },
  {
   "cell_type": "code",
   "execution_count": null,
   "metadata": {},
   "outputs": [],
   "source": [
    "df.describe()\n",
    "df.dtypes"
   ]
  },
  {
   "cell_type": "markdown",
   "metadata": {},
   "source": [
    "# PAIR1: Grid status & SOC(State of Charge) correlation"
   ]
  },
  {
   "cell_type": "code",
   "execution_count": null,
   "metadata": {},
   "outputs": [],
   "source": [
    "pair1 = [\"Grid status\", \"SOC\"]\n",
    "pair1_data = df[pair1]\n",
    "pair1_data.head()"
   ]
  },
  {
   "cell_type": "markdown",
   "metadata": {},
   "source": [
    "### Before going for correlation of the pairs lets first prepare the line plots of those with respect to time"
   ]
  },
  {
   "cell_type": "code",
   "execution_count": null,
   "metadata": {},
   "outputs": [],
   "source": [
    "fig, ax = plt.subplots(figsize=(15,10))\n",
    "start,end = 0,200\n",
    "ax.plot(df[start:end][\"Datetime\"].values, df[start:end][\"Grid status\"], color=\"green\", label=\"Grid status\")\n",
    "ax.plot(df[start:end][\"Datetime\"].values, df[start:end][\"SOC\"], color=\"red\", label=\"SOC\")\n",
    "ax.set(xlabel=\"Datetime(day/month)\",\n",
    "      ylabel=\"Grid Status & SOC\",\n",
    "      Title=\"Grid Status vs SOC over time\")\n",
    "\n",
    "ax.legend(loc=\"upper right\")\n",
    "# Clean up the x axis dates\n",
    "ax.xaxis.set_major_locator(mdates.DayLocator(interval=1))\n",
    "ax.xaxis.set_major_formatter(DateFormatter(\"%d/%m\"))"
   ]
  },
  {
   "cell_type": "markdown",
   "metadata": {},
   "source": [
    "### Looking at the first 100 values shows SOC of battery being perfect 100% for first 63 points and then decrease in its value drops Grid Status. Then for further charging of battery the SOC doesn't regain completely but about 90% is regained back and continues doing it."
   ]
  },
  {
   "cell_type": "code",
   "execution_count": null,
   "metadata": {},
   "outputs": [],
   "source": [
    "fig, ax = plt.subplots(figsize=(15,10))\n",
    "start,end = 0,-1\n",
    "ax.plot(df[start:end][\"Datetime\"].values, df[start:end][\"Grid status\"], color=\"green\", label=\"Grid status\")\n",
    "ax.plot(df[start:end][\"Datetime\"].values, df[start:end][\"SOC\"], color=\"red\", label=\"SOC\")\n",
    "ax.set(xlabel=\"Datetime(month/year)\",\n",
    "      ylabel=\"Grid Status & SOC\",\n",
    "      Title=\"Grid Status vs SOC over time\")\n",
    "\n",
    "ax.legend(loc=\"upper right\")\n",
    "# Clean up the x axis dates\n",
    "ax.xaxis.set_major_locator(mdates.MonthLocator(interval=1))\n",
    "ax.xaxis.set_major_formatter(DateFormatter(\"%m/%y\"))"
   ]
  },
  {
   "cell_type": "code",
   "execution_count": null,
   "metadata": {},
   "outputs": [],
   "source": [
    "fig.savefig(\"SOC vs Grid status-lineplot.png\")"
   ]
  },
  {
   "cell_type": "markdown",
   "metadata": {},
   "source": [
    "### Above plot clearly tells us about the SOC remains in between 0.9 and 0.6 for most cases whenever the Grid status drops and rise again."
   ]
  },
  {
   "cell_type": "markdown",
   "metadata": {},
   "source": [
    "### Now lets look at the correlation coefficients\n",
    "Grid status is binary valued between 0 and 1 whereas SOC is real between 0.0 and 1.0. So computed value is point biserial correlation coefficient."
   ]
  },
  {
   "cell_type": "code",
   "execution_count": null,
   "metadata": {},
   "outputs": [],
   "source": [
    "pair1_corr = pair1_data.corr()\n",
    "print(pair1_corr)"
   ]
  },
  {
   "cell_type": "markdown",
   "metadata": {},
   "source": [
    "### Correlation coefficient of 0.228 signifies a weak positive correlation between SOC and Grid status. So SOC does change Grid status but with a small amount."
   ]
  },
  {
   "cell_type": "markdown",
   "metadata": {},
   "source": [
    "### Lets visualize it with Heatmap"
   ]
  },
  {
   "cell_type": "code",
   "execution_count": null,
   "metadata": {},
   "outputs": [],
   "source": [
    "pair1_visualisation = sns.heatmap(pair1_corr,\n",
    "                                  xticklabels = pair1_corr.columns,\n",
    "                                  yticklabels = pair1_corr.columns,\n",
    "                                  center=0.0, cmap=\"Blues\",\n",
    "                                  linewidth=0.5,robust=True,\n",
    "                                  annot=pair1_corr.values, square = False)"
   ]
  },
  {
   "cell_type": "markdown",
   "metadata": {},
   "source": [
    "### Saving pair1 visualisation to png"
   ]
  },
  {
   "cell_type": "code",
   "execution_count": null,
   "metadata": {},
   "outputs": [],
   "source": [
    "pair1_fig = pair1_visualisation.get_figure()\n",
    "pair1_fig.savefig(\"pair1_corr_fig.png\")"
   ]
  },
  {
   "cell_type": "markdown",
   "metadata": {},
   "source": [
    "# PAIR2: Equivalent Cycles & SOH(State of Health) correlation"
   ]
  },
  {
   "cell_type": "markdown",
   "metadata": {},
   "source": [
    "Similar to previous one lets start with line plot first"
   ]
  },
  {
   "cell_type": "code",
   "execution_count": null,
   "metadata": {},
   "outputs": [],
   "source": [
    "pair2 = [\"Equivalent cycle\", \"SOH\"]\n",
    "pair2_data = df[pair2]\n",
    "pair2_data.head()"
   ]
  },
  {
   "cell_type": "code",
   "execution_count": null,
   "metadata": {},
   "outputs": [],
   "source": [
    "fig, ax = plt.subplots(figsize=(15,10))\n",
    "start,end = 0,-1\n",
    "ax.plot(df[start:end][\"Datetime\"].values, df[start:end][\"Equivalent cycle\"], color=\"green\", label=\"Equivalent Cycles\")\n",
    "ax.plot(df[start:end][\"Datetime\"].values, df[start:end][\"SOH\"], color=\"red\", label=\"SOH\")\n",
    "ax.set(xlabel=\"Datetime(month/year)\",\n",
    "      ylabel=\"Equivalent cycles & SOH\",\n",
    "      Title=\"Equivalent Cycles vs SOH over time\")\n",
    "\n",
    "ax.legend(loc=\"upper right\")\n",
    "# Clean up the x axis dates\n",
    "ax.xaxis.set_major_locator(mdates.MonthLocator(interval=1))\n",
    "ax.xaxis.set_major_formatter(DateFormatter(\"%m/%y\"))"
   ]
  },
  {
   "cell_type": "code",
   "execution_count": null,
   "metadata": {},
   "outputs": [],
   "source": [
    "fig.savefig(\"SOH vs Equivalent Cycles-lineplot.png\")"
   ]
  },
  {
   "cell_type": "markdown",
   "metadata": {},
   "source": [
    "### From the above plot its quite evident that increase in equivalent cycles doesn't change state of health(SOH) of battery much. This signifies the quality of battery being very good."
   ]
  },
  {
   "cell_type": "code",
   "execution_count": null,
   "metadata": {},
   "outputs": [],
   "source": [
    "pair2_corr = pair2_data.corr()\n",
    "pair2_corr.head()"
   ]
  },
  {
   "cell_type": "markdown",
   "metadata": {},
   "source": [
    "### As expected the correlation coefficient is very close to -1 signifing negative impact of recharging cycles on battery's health."
   ]
  },
  {
   "cell_type": "markdown",
   "metadata": {},
   "source": [
    "Lets visualize the correlation coefficient heatmap"
   ]
  },
  {
   "cell_type": "code",
   "execution_count": null,
   "metadata": {},
   "outputs": [],
   "source": [
    "pair2_visualisation = sns.heatmap(pair2_corr,\n",
    "                                 xticklabels=pair2_corr.columns,\n",
    "                                 yticklabels=pair2_corr.columns,\n",
    "                                 center=0.0, robust=True,\n",
    "                                 cmap=\"Blues\",\n",
    "                                 annot=True, square=True)"
   ]
  },
  {
   "cell_type": "markdown",
   "metadata": {},
   "source": [
    "### Saving pair2 visualisation to png"
   ]
  },
  {
   "cell_type": "code",
   "execution_count": null,
   "metadata": {},
   "outputs": [],
   "source": [
    "pair2_fig = pair2_visualisation.get_figure()\n",
    "pair2_fig.savefig(\"pair2_corr_fig.png\")"
   ]
  },
  {
   "cell_type": "markdown",
   "metadata": {},
   "source": [
    "# PAIR3: SOC(State of Charge) & Temperature correlation"
   ]
  },
  {
   "cell_type": "code",
   "execution_count": null,
   "metadata": {},
   "outputs": [],
   "source": [
    "pair3 = [\"SOC\", \"Temperature\"]\n",
    "pair3_data = df[pair3]\n",
    "pair3_data.head()"
   ]
  },
  {
   "cell_type": "markdown",
   "metadata": {},
   "source": [
    "### Preparing the lineplot"
   ]
  },
  {
   "cell_type": "code",
   "execution_count": null,
   "metadata": {},
   "outputs": [],
   "source": [
    "fig, ax = plt.subplots(figsize=(15,10))\n",
    "start,end = 0,-1\n",
    "ax.plot(df[start:end][\"Datetime\"].values, df[start:end][\"Temperature\"], color=\"red\", label=\"Temperature\")\n",
    "ax.plot(df[start:end][\"Datetime\"].values, df[start:end][\"SOC\"], color=\"green\", label=\"SOC\")\n",
    "ax.set(xlabel=\"Datetime\",\n",
    "      ylabel=\"Temperature & SOC\",\n",
    "      Title=\"Temperature vs SOC over time\")\n",
    "\n",
    "ax.legend(loc=\"upper right\")\n",
    "# Clean up the x axis dates\n",
    "ax.xaxis.set_major_locator(mdates.MonthLocator(interval=1))\n",
    "ax.xaxis.set_major_formatter(DateFormatter(\"%m/%y\"))"
   ]
  },
  {
   "cell_type": "code",
   "execution_count": null,
   "metadata": {},
   "outputs": [],
   "source": [
    "fig.savefig(\"Temperature vs SOC-lineplot.png\")"
   ]
  },
  {
   "cell_type": "markdown",
   "metadata": {},
   "source": [
    "### Above plot clearly suggested not much change in SOC with respect to varience in temperature. Going for the correlation coefficient."
   ]
  },
  {
   "cell_type": "code",
   "execution_count": null,
   "metadata": {},
   "outputs": [],
   "source": [
    "pair3_corr = pair3_data.corr()\n",
    "pair3_corr.head()"
   ]
  },
  {
   "cell_type": "markdown",
   "metadata": {},
   "source": [
    "### As expected the coefficient of -0.37 suggest weak negative relation between SOC and temperature."
   ]
  },
  {
   "cell_type": "code",
   "execution_count": null,
   "metadata": {},
   "outputs": [],
   "source": [
    "pair3_visualisation = sns.heatmap(pair3_corr,\n",
    "                                 xticklabels=pair3_corr.columns,\n",
    "                                 yticklabels=pair3_corr.columns,\n",
    "                                 center=0.0, fmt=\"f\",\n",
    "                                 annot=True, square=True)"
   ]
  },
  {
   "cell_type": "markdown",
   "metadata": {},
   "source": [
    "### Saving pair3 visualisation to png"
   ]
  },
  {
   "cell_type": "code",
   "execution_count": null,
   "metadata": {},
   "outputs": [],
   "source": [
    "pair3_fig = pair3_visualisation.get_figure()\n",
    "pair3_fig.savefig(\"pair3_corr_fig.png\")"
   ]
  }
 ],
 "metadata": {
  "kernelspec": {
   "display_name": "Python 3",
   "language": "python",
   "name": "python3"
  },
  "language_info": {
   "codemirror_mode": {
    "name": "ipython",
    "version": 3
   },
   "file_extension": ".py",
   "mimetype": "text/x-python",
   "name": "python",
   "nbconvert_exporter": "python",
   "pygments_lexer": "ipython3",
   "version": "3.6.8"
  }
 },
 "nbformat": 4,
 "nbformat_minor": 2
}
